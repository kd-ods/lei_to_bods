{
 "cells": [
  {
   "cell_type": "markdown",
   "metadata": {},
   "source": [
    "# LEI to BODS - initial analysis"
   ]
  },
  {
   "cell_type": "code",
   "execution_count": 4,
   "metadata": {},
   "outputs": [],
   "source": [
    "import lei_to_bods as lb"
   ]
  },
  {
   "cell_type": "markdown",
   "metadata": {},
   "source": [
    "Read in a sample xml file and print first record"
   ]
  },
  {
   "cell_type": "code",
   "execution_count": 6,
   "metadata": {},
   "outputs": [
    {
     "name": "stdout",
     "output_type": "stream",
     "text": [
      "<lei:LEIRecord xmlns:lei=\"http://www.gleif.org/data/schema/leidata/2016\">\n",
      "  <lei:LEI>8156004A94C01BCD1B06</lei:LEI>\n",
      "  <lei:Entity>\n",
      "    <lei:LegalName xml:lang=\"it-IT\">RISORGIMENTO INVESTIMENTI S.R.L.</lei:LegalName>\n",
      "    <lei:LegalAddress xml:lang=\"it-IT\">\n",
      "      <lei:FirstAddressLine>VIA CAPOZZI, 3</lei:FirstAddressLine>\n",
      "      <lei:City>CALVI</lei:City>\n",
      "      <lei:Region>IT-BN</lei:Region>\n",
      "      <lei:Country>IT</lei:Country>\n",
      "      <lei:PostalCode>82018</lei:PostalCode>\n",
      "    </lei:LegalAddress>\n",
      "    <lei:HeadquartersAddress xml:lang=\"it-IT\">\n",
      "      <lei:FirstAddressLine>VIA CAPOZZI, 3</lei:FirstAddressLine>\n",
      "      <lei:City>CALVI</lei:City>\n",
      "      <lei:Region>IT-BN</lei:Region>\n",
      "      <lei:Country>IT</lei:Country>\n",
      "      <lei:PostalCode>82018</lei:PostalCode>\n",
      "    </lei:HeadquartersAddress>\n",
      "    <lei:RegistrationAuthority>\n",
      "      <lei:RegistrationAuthorityID>RA000407</lei:RegistrationAuthorityID>\n",
      "      <lei:RegistrationAuthorityEntityID>01727290627</lei:RegistrationAuthorityEntityID>\n",
      "    </lei:RegistrationAuthority>\n",
      "    <lei:LegalJurisdiction>IT</lei:LegalJurisdiction>\n",
      "    <lei:EntityCategory>GENERAL</lei:EntityCategory>\n",
      "    <lei:LegalForm>\n",
      "      <lei:EntityLegalFormCode>OV32</lei:EntityLegalFormCode>\n",
      "    </lei:LegalForm>\n",
      "    <lei:EntityStatus>ACTIVE</lei:EntityStatus>\n",
      "    <lei:EntityCreationDate>2018-10-01T00:00:00.000+02:00</lei:EntityCreationDate>\n",
      "  </lei:Entity>\n",
      "  <lei:Registration>\n",
      "    <lei:InitialRegistrationDate>2019-04-09T11:35:09.000+02:00</lei:InitialRegistrationDate>\n",
      "    <lei:LastUpdateDate>2022-04-09T10:03:25.000+02:00</lei:LastUpdateDate>\n",
      "    <lei:RegistrationStatus>ISSUED</lei:RegistrationStatus>\n",
      "    <lei:NextRenewalDate>2023-04-09T11:35:09.000+02:00</lei:NextRenewalDate>\n",
      "    <lei:ManagingLOU>815600EAD78C57FCE690</lei:ManagingLOU>\n",
      "    <lei:ValidationSources>FULLY_CORROBORATED</lei:ValidationSources>\n",
      "    <lei:ValidationAuthority>\n",
      "      <lei:ValidationAuthorityID>RA000407</lei:ValidationAuthorityID>\n",
      "      <lei:ValidationAuthorityEntityID>01727290627</lei:ValidationAuthorityEntityID>\n",
      "    </lei:ValidationAuthority>\n",
      "  </lei:Registration>\n",
      "</lei:LEIRecord>\n",
      "\n"
     ]
    }
   ],
   "source": [
    "lei = lb.read_lei('sample_data/20220705-gleif-concatenated-file-lei2-sample.xml')\n",
    "print(lei[0])"
   ]
  },
  {
   "cell_type": "code",
   "execution_count": 24,
   "metadata": {},
   "outputs": [
    {
     "data": {
      "text/plain": [
       "{'statementID': '8156004A94C01BCD1B06',\n",
       " 'statementType': 'entityStatement',\n",
       " 'statementDate': '2022-04-09T10:03:25.000+02:00',\n",
       " 'entityType': 'registeredEntity',\n",
       " 'name': 'RISORGIMENTO INVESTIMENTI S.R.L.',\n",
       " 'jurisdiction': {'code': 'IT'},\n",
       " 'identifiers': [{'id': '8156004A94C01BCD1B06',\n",
       "   'scheme': 'XI-LEI',\n",
       "   'schemeName': 'Global Legal Entity Identifier Index'}],\n",
       " 'foundingDate': '2018-10-01T00:00:00.000+02:00',\n",
       " 'address': {'type': 'registered',\n",
       "  'address': 'VIA CAPOZZI, 3,CALVI,IT-BN',\n",
       "  'postCode': '82018',\n",
       "  'country': 'IT'}}"
      ]
     },
     "execution_count": 24,
     "metadata": {},
     "output_type": "execute_result"
    }
   ],
   "source": [
    "\n",
    "\n",
    "d = {}\n",
    "\n",
    "splitRecord = lei[0].split('\\n')\n",
    "\n",
    "statementType = 'entityStatement'\n",
    "isComponent = False\n",
    "entityType = 'registeredEntity'\n",
    "\n",
    "\n",
    "addressSwitch = 0\n",
    "\n",
    "for line in splitRecord:\n",
    "    if '<lei:LEI>' in line:\n",
    "        statementID = line.split('>')[1].split('<')[0]\n",
    "    if '<lei:LegalName' in line:\n",
    "        name = line.split('>')[1].split('<')[0]\n",
    "    if '<lei:LastUpdateDate>' in line:\n",
    "        statementDate = line.split('>')[1].split('<')[0]\n",
    "    if '<lei:LegalJurisdiction>' in line:\n",
    "        jurisdiction = {'code':line.split('>')[1].split('<')[0]}\n",
    "    if '<lei:LEI>' in line:\n",
    "        identifiers = [{'id':line.split('>')[1].split('<')[0],\n",
    "        'scheme':'XI-LEI',\n",
    "        'schemeName':'Global Legal Entity Identifier Index'}]\n",
    "    if '<lei:EntityCreationDate>' in line:\n",
    "        foundingDate = line.split('>')[1].split('<')[0]\n",
    "    if '<lei:LegalAddress' in line:\n",
    "        addressSwitch = 1\n",
    "        addressString = ''\n",
    "    if '</lei:LegalAddress' in line:\n",
    "        addressSwitch = 0\n",
    "        address = {'type':'registered','address':addressString,'postCode':postCode,'country':country}\n",
    "    if addressSwitch == 1:\n",
    "        if '<lei:FirstAddressLine>' in line:\n",
    "            addressString = addressString + line.split('>')[1].split('<')[0] + ','\n",
    "        if '<lei:City>' in line:\n",
    "            addressString = addressString + line.split('>')[1].split('<')[0]  + ','\n",
    "        if '<lei:Region>' in line:\n",
    "            addressString = addressString + line.split('>')[1].split('<')[0]\n",
    "        if '<lei:Country>' in line:\n",
    "            country = line.split('>')[1].split('<')[0]\n",
    "        if '<lei:PostalCode>' in line:\n",
    "            postCode = line.split('>')[1].split('<')[0]\n",
    "             \n",
    "\n",
    "d = {'statementID': statementID,\n",
    "'statementType':statementType,\n",
    "'statementDate':statementDate,\n",
    "'entityType':entityType,\n",
    "'name':name,\n",
    "'jurisdiction':jurisdiction,\n",
    "'identifiers':identifiers,\n",
    "'foundingDate':foundingDate,\n",
    "'address':address}\n",
    "\n",
    "\n",
    "d"
   ]
  }
 ],
 "metadata": {
  "kernelspec": {
   "display_name": "Python 3.10.0 64-bit",
   "language": "python",
   "name": "python3"
  },
  "language_info": {
   "codemirror_mode": {
    "name": "ipython",
    "version": 3
   },
   "file_extension": ".py",
   "mimetype": "text/x-python",
   "name": "python",
   "nbconvert_exporter": "python",
   "pygments_lexer": "ipython3",
   "version": "3.10.0"
  },
  "orig_nbformat": 4,
  "vscode": {
   "interpreter": {
    "hash": "aee8b7b246df8f9039afb4144a1f6fd8d2ca17a180786b69acc140d282b71a49"
   }
  }
 },
 "nbformat": 4,
 "nbformat_minor": 2
}
