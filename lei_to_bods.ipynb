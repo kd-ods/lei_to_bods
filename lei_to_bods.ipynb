{
 "cells": [
  {
   "cell_type": "markdown",
   "metadata": {},
   "source": [
    "# LEI to BODS - initial analysis"
   ]
  },
  {
   "cell_type": "code",
   "execution_count": 1,
   "metadata": {},
   "outputs": [],
   "source": [
    "import lei_to_bods as lb"
   ]
  },
  {
   "cell_type": "markdown",
   "metadata": {},
   "source": [
    "## Convert single statements"
   ]
  },
  {
   "cell_type": "markdown",
   "metadata": {},
   "source": [
    "Read in a sample xml file and print first record"
   ]
  },
  {
   "cell_type": "code",
   "execution_count": 2,
   "metadata": {},
   "outputs": [
    {
     "name": "stdout",
     "output_type": "stream",
     "text": [
      "<lei:LEIRecord xmlns:lei=\"http://www.gleif.org/data/schema/leidata/2016\">\n",
      "  <lei:LEI>21380023YXZTOTBROZ67</lei:LEI>\n",
      "  <lei:Entity>\n",
      "    <lei:LegalName xml:lang=\"en\">CLAAS FINANCIAL SERVICES LIMITED</lei:LegalName>\n",
      "    <lei:LegalAddress xml:lang=\"en\">\n",
      "      <lei:FirstAddressLine>NORTHERN CROSS</lei:FirstAddressLine>\n",
      "      <lei:AdditionalAddressLine>BASING VIEW</lei:AdditionalAddressLine>\n",
      "      <lei:City>BASINGSTOKE</lei:City>\n",
      "      <lei:Region>GB-HAM</lei:Region>\n",
      "      <lei:Country>GB</lei:Country>\n",
      "      <lei:PostalCode>RG21 4HL</lei:PostalCode>\n",
      "    </lei:LegalAddress>\n",
      "    <lei:HeadquartersAddress xml:lang=\"en\">\n",
      "      <lei:FirstAddressLine>NORTHERN CROSS</lei:FirstAddressLine>\n",
      "      <lei:AdditionalAddressLine>BASING VIEW</lei:AdditionalAddressLine>\n",
      "      <lei:City>BASINGSTOKE</lei:City>\n",
      "      <lei:Region>GB-HAM</lei:Region>\n",
      "      <lei:Country>GB</lei:Country>\n",
      "      <lei:PostalCode>RG21 4HL</lei:PostalCode>\n",
      "    </lei:HeadquartersAddress>\n",
      "    <lei:RegistrationAuthority>\n",
      "      <lei:RegistrationAuthorityID>RA000585</lei:RegistrationAuthorityID>\n",
      "      <lei:RegistrationAuthorityEntityID>05854271</lei:RegistrationAuthorityEntityID>\n",
      "    </lei:RegistrationAuthority>\n",
      "    <lei:LegalJurisdiction>GB</lei:LegalJurisdiction>\n",
      "    <lei:EntityCategory>GENERAL</lei:EntityCategory>\n",
      "    <lei:LegalForm>\n",
      "      <lei:EntityLegalFormCode>H0PO</lei:EntityLegalFormCode>\n",
      "    </lei:LegalForm>\n",
      "    <lei:EntityStatus>ACTIVE</lei:EntityStatus>\n",
      "    <lei:EntityCreationDate>2006-06-22T00:00:00Z</lei:EntityCreationDate>\n",
      "  </lei:Entity>\n",
      "  <lei:Registration>\n",
      "    <lei:InitialRegistrationDate>2014-04-29T00:00:00Z</lei:InitialRegistrationDate>\n",
      "    <lei:LastUpdateDate>2022-04-20T15:59:54.643Z</lei:LastUpdateDate>\n",
      "    <lei:RegistrationStatus>ISSUED</lei:RegistrationStatus>\n",
      "    <lei:NextRenewalDate>2023-04-29T00:00:00Z</lei:NextRenewalDate>\n",
      "    <lei:ManagingLOU>213800WAVVOPS85N2205</lei:ManagingLOU>\n",
      "    <lei:ValidationSources>FULLY_CORROBORATED</lei:ValidationSources>\n",
      "    <lei:ValidationAuthority>\n",
      "      <lei:ValidationAuthorityID>RA000585</lei:ValidationAuthorityID>\n",
      "      <lei:ValidationAuthorityEntityID>05854271</lei:ValidationAuthorityEntityID>\n",
      "    </lei:ValidationAuthority>\n",
      "  </lei:Registration>\n",
      "</lei:LEIRecord>\n",
      "\n"
     ]
    }
   ],
   "source": [
    "lei = lb.read_lei('sample_data/20220705-gleif-concatenated-file-lei2-sample.xml')\n",
    "print(lei[0])"
   ]
  },
  {
   "cell_type": "markdown",
   "metadata": {},
   "source": [
    "Try converting an LEI level 1 statement to a BODS entity statement"
   ]
  },
  {
   "cell_type": "code",
   "execution_count": 3,
   "metadata": {},
   "outputs": [
    {
     "name": "stdout",
     "output_type": "stream",
     "text": [
      "{\n",
      "    \"statementID\": \"6D984394ADC983458CC95458400A64A0\",\n",
      "    \"statementType\": \"entityStatement\",\n",
      "    \"statementDate\": \"2022-04-20T15:59:54.643Z\",\n",
      "    \"isComponent\": false,\n",
      "    \"entityType\": \"registeredEntity\",\n",
      "    \"name\": \"CLAAS FINANCIAL SERVICES LIMITED\",\n",
      "    \"jurisdiction\": {\n",
      "        \"code\": \"GB\"\n",
      "    },\n",
      "    \"identifiers\": [\n",
      "        {\n",
      "            \"id\": \"21380023YXZTOTBROZ67\",\n",
      "            \"scheme\": \"XI-LEI\",\n",
      "            \"schemeName\": \"Global Legal Entity Identifier Index\"\n",
      "        }\n",
      "    ],\n",
      "    \"foundingDate\": \"2006-06-22T00:00:00Z\",\n",
      "    \"addresses\": [\n",
      "        {\n",
      "            \"type\": \"registered\",\n",
      "            \"address\": \"NORTHERN CROSS,BASINGSTOKE,GB-HAM\",\n",
      "            \"postCode\": \"RG21 4HL\",\n",
      "            \"country\": \"GB\"\n",
      "        },\n",
      "        {\n",
      "            \"type\": \"business\",\n",
      "            \"address\": \"NORTHERN CROSS,BASINGSTOKE,GB-HAM\",\n",
      "            \"postCode\": \"RG21 4HL\",\n",
      "            \"country\": \"GB\"\n",
      "        }\n",
      "    ],\n",
      "    \"source\": {\n",
      "        \"type\": [\n",
      "            \"officialRegister\",\n",
      "            \"verified\"\n",
      "        ],\n",
      "        \"description\": \"GLEIF\"\n",
      "    }\n",
      "}\n"
     ]
    }
   ],
   "source": [
    "bodsExample = lb.lei1_to_entity_statement(lei[0])\n",
    "print(bodsExample)"
   ]
  },
  {
   "cell_type": "markdown",
   "metadata": {},
   "source": [
    "Now try converting an LEI level 2 relationship statement to a BODS ownership or control statement. First read in the relationship data"
   ]
  },
  {
   "cell_type": "code",
   "execution_count": 4,
   "metadata": {},
   "outputs": [
    {
     "data": {
      "text/plain": [
       "'<rr:RelationshipRecord xmlns:rr=\"http://www.gleif.org/data/schema/rr/2016\">\\n  <rr:Relationship>\\n    <rr:StartNode>\\n      <rr:NodeID>529900H89QYCH7VET167</rr:NodeID>\\n      <rr:NodeIDType>LEI</rr:NodeIDType>\\n    </rr:StartNode>\\n    <rr:EndNode>\\n      <rr:NodeID>R88YAY8UVCFDFTMT7D20</rr:NodeID>\\n      <rr:NodeIDType>LEI</rr:NodeIDType>\\n    </rr:EndNode>\\n    <rr:RelationshipType>IS_ULTIMATELY_CONSOLIDATED_BY</rr:RelationshipType>\\n    <rr:RelationshipPeriods>\\n      <rr:RelationshipPeriod>\\n        <rr:StartDate>2015-01-01T00:00:00+01:00</rr:StartDate>\\n        <rr:EndDate>2015-12-31T00:00:00+01:00</rr:EndDate>\\n        <rr:PeriodType>ACCOUNTING_PERIOD</rr:PeriodType>\\n      </rr:RelationshipPeriod>\\n      <rr:RelationshipPeriod>\\n        <rr:StartDate>2017-10-17T00:00:00+02:00</rr:StartDate>\\n        <rr:PeriodType>RELATIONSHIP_PERIOD</rr:PeriodType>\\n      </rr:RelationshipPeriod>\\n      <rr:RelationshipPeriod>\\n        <rr:StartDate>2016-09-26T00:00:00+02:00</rr:StartDate>\\n        <rr:PeriodType>DOCUMENT_FILING_PERIOD</rr:PeriodType>\\n      </rr:RelationshipPeriod>\\n    </rr:RelationshipPeriods>\\n    <rr:RelationshipStatus>NULL</rr:RelationshipStatus>\\n  </rr:Relationship>\\n  <rr:Registration>\\n    <rr:InitialRegistrationDate>2017-11-06T08:07:17+01:00</rr:InitialRegistrationDate>\\n    <rr:LastUpdateDate>2018-12-05T12:57:16+01:00</rr:LastUpdateDate>\\n    <rr:RegistrationStatus>ANNULLED</rr:RegistrationStatus>\\n    <rr:NextRenewalDate>2018-11-06T08:07:17+01:00</rr:NextRenewalDate>\\n    <rr:ManagingLOU>5299000J2N45DDNE4Y28</rr:ManagingLOU>\\n    <rr:ValidationSources>PARTIALLY_CORROBORATED</rr:ValidationSources>\\n    <rr:ValidationDocuments>ACCOUNTS_FILING</rr:ValidationDocuments>\\n  </rr:Registration>\\n</rr:RelationshipRecord>\\n'"
      ]
     },
     "execution_count": 4,
     "metadata": {},
     "output_type": "execute_result"
    }
   ],
   "source": [
    "rr = lb.read_lei('sample_data/20220705-gleif-concatenated-file-rr-sample.xml')\n",
    "rr[0]"
   ]
  },
  {
   "cell_type": "markdown",
   "metadata": {},
   "source": [
    "Now do the conversion"
   ]
  },
  {
   "cell_type": "code",
   "execution_count": 7,
   "metadata": {},
   "outputs": [
    {
     "name": "stdout",
     "output_type": "stream",
     "text": [
      "{\n",
      "    \"statementID\": \"ABE26A524A8B13BD857ECFED08597D3A\",\n",
      "    \"statementType\": \"ownershipOrControlStatement\",\n",
      "    \"statementDate\": \"2018-12-05T12:57:16+01:00\",\n",
      "    \"isComponent\": false,\n",
      "    \"subject\": {\n",
      "        \"describedByEntityStatement\": \"R88YAY8UVCFDFTMT7D20\"\n",
      "    },\n",
      "    \"interestedParty\": {\n",
      "        \"describedByEntityStatement\": \"529900H89QYCH7VET167\"\n",
      "    },\n",
      "    \"interests\": {\n",
      "        \"type\": \"otherInfluenceOrControl\",\n",
      "        \"interestLevel\": \"indirect\",\n",
      "        \"beneficialOwnershipOrControl\": false,\n",
      "        \"startDate\": \"2017-10-17T00:00:00+02:00\"\n",
      "    },\n",
      "    \"source\": {\n",
      "        \"type\": [\n",
      "            \"officialRegister\"\n",
      "        ],\n",
      "        \"description\": \"GLEIF\"\n",
      "    }\n",
      "}\n"
     ]
    }
   ],
   "source": [
    "x = lb.lei2_relationship_to_ooc_statement(rr[0])\n",
    "print(x)"
   ]
  },
  {
   "cell_type": "markdown",
   "metadata": {},
   "source": [
    "## Convert all statements in a declaration"
   ]
  },
  {
   "cell_type": "markdown",
   "metadata": {},
   "source": [
    "Pull out all statements in lei level 1 and level 2 data that contain a given ID (to follow)"
   ]
  },
  {
   "cell_type": "code",
   "execution_count": 7,
   "metadata": {},
   "outputs": [
    {
     "name": "stdout",
     "output_type": "stream",
     "text": [
      "2\n"
     ]
    }
   ],
   "source": []
  }
 ],
 "metadata": {
  "kernelspec": {
   "display_name": "Python 3.10.0 64-bit",
   "language": "python",
   "name": "python3"
  },
  "language_info": {
   "codemirror_mode": {
    "name": "ipython",
    "version": 3
   },
   "file_extension": ".py",
   "mimetype": "text/x-python",
   "name": "python",
   "nbconvert_exporter": "python",
   "pygments_lexer": "ipython3",
   "version": "3.10.0"
  },
  "orig_nbformat": 4,
  "vscode": {
   "interpreter": {
    "hash": "aee8b7b246df8f9039afb4144a1f6fd8d2ca17a180786b69acc140d282b71a49"
   }
  }
 },
 "nbformat": 4,
 "nbformat_minor": 2
}
